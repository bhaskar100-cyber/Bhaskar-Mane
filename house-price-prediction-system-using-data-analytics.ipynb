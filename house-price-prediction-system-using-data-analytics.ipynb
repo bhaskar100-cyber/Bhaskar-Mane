{
 "cells": [
  {
   "cell_type": "markdown",
   "id": "ae5ffb32",
   "metadata": {
    "_cell_guid": "b1076dfc-b9ad-4769-8c92-a6c4dae69d19",
    "_uuid": "8f2839f25d086af736a60e9eeb907d3b93b6e0e5",
    "papermill": {
     "duration": 0.009663,
     "end_time": "2024-07-12T08:48:00.213303",
     "exception": false,
     "start_time": "2024-07-12T08:48:00.203640",
     "status": "completed"
    },
    "tags": []
   },
   "source": [
    "# **Creating a House Price Prediction System using data analytics algorithms involves several key steps, including data preparation, feature engineering, model training, and evaluation.**"
   ]
  },
  {
   "cell_type": "markdown",
   "id": "b73d2f4f",
   "metadata": {
    "papermill": {
     "duration": 0.008924,
     "end_time": "2024-07-12T08:48:00.231636",
     "exception": false,
     "start_time": "2024-07-12T08:48:00.222712",
     "status": "completed"
    },
    "tags": []
   },
   "source": [
    " **Overview\n",
    " Objective: Predict house prices based on features such as location, size, condition, and other property characteristics.**\n",
    " \n",
    " **Deliverables: A trained predictive model and insights derived from the analysis to aid in decision-making.**"
   ]
  },
  {
   "cell_type": "markdown",
   "id": "21fad79f",
   "metadata": {
    "papermill": {
     "duration": 0.009161,
     "end_time": "2024-07-12T08:48:00.252616",
     "exception": false,
     "start_time": "2024-07-12T08:48:00.243455",
     "status": "completed"
    },
    "tags": []
   },
   "source": [
    " **Implementation**\n",
    " \n",
    "**Data Preparation\n",
    " Load the Data**\n",
    " \n",
    " **1st.Load your dataset into a Pandas DataFrame.**"
   ]
  },
  {
   "cell_type": "code",
   "execution_count": 1,
   "id": "0d8eef62",
   "metadata": {
    "execution": {
     "iopub.execute_input": "2024-07-12T08:48:00.274806Z",
     "iopub.status.busy": "2024-07-12T08:48:00.274244Z",
     "iopub.status.idle": "2024-07-12T08:48:01.347749Z",
     "shell.execute_reply": "2024-07-12T08:48:01.346631Z"
    },
    "papermill": {
     "duration": 1.087408,
     "end_time": "2024-07-12T08:48:01.350411",
     "exception": false,
     "start_time": "2024-07-12T08:48:00.263003",
     "status": "completed"
    },
    "tags": []
   },
   "outputs": [
    {
     "data": {
      "text/html": [
       "<div>\n",
       "<style scoped>\n",
       "    .dataframe tbody tr th:only-of-type {\n",
       "        vertical-align: middle;\n",
       "    }\n",
       "\n",
       "    .dataframe tbody tr th {\n",
       "        vertical-align: top;\n",
       "    }\n",
       "\n",
       "    .dataframe thead th {\n",
       "        text-align: right;\n",
       "    }\n",
       "</style>\n",
       "<table border=\"1\" class=\"dataframe\">\n",
       "  <thead>\n",
       "    <tr style=\"text-align: right;\">\n",
       "      <th></th>\n",
       "      <th>Id</th>\n",
       "      <th>MSSubClass</th>\n",
       "      <th>MSZoning</th>\n",
       "      <th>LotArea</th>\n",
       "      <th>LotConfig</th>\n",
       "      <th>BldgType</th>\n",
       "      <th>OverallCond</th>\n",
       "      <th>YearBuilt</th>\n",
       "      <th>YearRemodAdd</th>\n",
       "      <th>Exterior1st</th>\n",
       "      <th>BsmtFinSF2</th>\n",
       "      <th>TotalBsmtSF</th>\n",
       "      <th>SalePrice</th>\n",
       "    </tr>\n",
       "  </thead>\n",
       "  <tbody>\n",
       "    <tr>\n",
       "      <th>0</th>\n",
       "      <td>0</td>\n",
       "      <td>60</td>\n",
       "      <td>RL</td>\n",
       "      <td>8450</td>\n",
       "      <td>Inside</td>\n",
       "      <td>1Fam</td>\n",
       "      <td>5</td>\n",
       "      <td>2003</td>\n",
       "      <td>2003</td>\n",
       "      <td>VinylSd</td>\n",
       "      <td>0.0</td>\n",
       "      <td>856.0</td>\n",
       "      <td>208500.0</td>\n",
       "    </tr>\n",
       "    <tr>\n",
       "      <th>1</th>\n",
       "      <td>1</td>\n",
       "      <td>20</td>\n",
       "      <td>RL</td>\n",
       "      <td>9600</td>\n",
       "      <td>FR2</td>\n",
       "      <td>1Fam</td>\n",
       "      <td>8</td>\n",
       "      <td>1976</td>\n",
       "      <td>1976</td>\n",
       "      <td>MetalSd</td>\n",
       "      <td>0.0</td>\n",
       "      <td>1262.0</td>\n",
       "      <td>181500.0</td>\n",
       "    </tr>\n",
       "    <tr>\n",
       "      <th>2</th>\n",
       "      <td>2</td>\n",
       "      <td>60</td>\n",
       "      <td>RL</td>\n",
       "      <td>11250</td>\n",
       "      <td>Inside</td>\n",
       "      <td>1Fam</td>\n",
       "      <td>5</td>\n",
       "      <td>2001</td>\n",
       "      <td>2002</td>\n",
       "      <td>VinylSd</td>\n",
       "      <td>0.0</td>\n",
       "      <td>920.0</td>\n",
       "      <td>223500.0</td>\n",
       "    </tr>\n",
       "    <tr>\n",
       "      <th>3</th>\n",
       "      <td>3</td>\n",
       "      <td>70</td>\n",
       "      <td>RL</td>\n",
       "      <td>9550</td>\n",
       "      <td>Corner</td>\n",
       "      <td>1Fam</td>\n",
       "      <td>5</td>\n",
       "      <td>1915</td>\n",
       "      <td>1970</td>\n",
       "      <td>Wd Sdng</td>\n",
       "      <td>0.0</td>\n",
       "      <td>756.0</td>\n",
       "      <td>140000.0</td>\n",
       "    </tr>\n",
       "    <tr>\n",
       "      <th>4</th>\n",
       "      <td>4</td>\n",
       "      <td>60</td>\n",
       "      <td>RL</td>\n",
       "      <td>14260</td>\n",
       "      <td>FR2</td>\n",
       "      <td>1Fam</td>\n",
       "      <td>5</td>\n",
       "      <td>2000</td>\n",
       "      <td>2000</td>\n",
       "      <td>VinylSd</td>\n",
       "      <td>0.0</td>\n",
       "      <td>1145.0</td>\n",
       "      <td>250000.0</td>\n",
       "    </tr>\n",
       "  </tbody>\n",
       "</table>\n",
       "</div>"
      ],
      "text/plain": [
       "   Id  MSSubClass MSZoning  LotArea LotConfig BldgType  OverallCond  \\\n",
       "0   0          60       RL     8450    Inside     1Fam            5   \n",
       "1   1          20       RL     9600       FR2     1Fam            8   \n",
       "2   2          60       RL    11250    Inside     1Fam            5   \n",
       "3   3          70       RL     9550    Corner     1Fam            5   \n",
       "4   4          60       RL    14260       FR2     1Fam            5   \n",
       "\n",
       "   YearBuilt  YearRemodAdd Exterior1st  BsmtFinSF2  TotalBsmtSF  SalePrice  \n",
       "0       2003          2003     VinylSd         0.0        856.0   208500.0  \n",
       "1       1976          1976     MetalSd         0.0       1262.0   181500.0  \n",
       "2       2001          2002     VinylSd         0.0        920.0   223500.0  \n",
       "3       1915          1970     Wd Sdng         0.0        756.0   140000.0  \n",
       "4       2000          2000     VinylSd         0.0       1145.0   250000.0  "
      ]
     },
     "execution_count": 1,
     "metadata": {},
     "output_type": "execute_result"
    }
   ],
   "source": [
    "import pandas as pd\n",
    "\n",
    "# Load the dataset\n",
    "data = pd.read_csv('/kaggle/input/houseprediction/houseprediction.csv')\n",
    "\n",
    "# Display the first few rows of the dataset\n",
    "data.head()\n"
   ]
  },
  {
   "cell_type": "markdown",
   "id": "f27a012f",
   "metadata": {
    "papermill": {
     "duration": 0.009559,
     "end_time": "2024-07-12T08:48:01.370036",
     "exception": false,
     "start_time": "2024-07-12T08:48:01.360477",
     "status": "completed"
    },
    "tags": []
   },
   "source": [
    "# **2.Explore the Data**\n",
    "\n",
    "**Get an overview of the dataset to understand its structure and check for missing values.**"
   ]
  },
  {
   "cell_type": "code",
   "execution_count": 2,
   "id": "db15b303",
   "metadata": {
    "execution": {
     "iopub.execute_input": "2024-07-12T08:48:01.391191Z",
     "iopub.status.busy": "2024-07-12T08:48:01.390754Z",
     "iopub.status.idle": "2024-07-12T08:48:01.452637Z",
     "shell.execute_reply": "2024-07-12T08:48:01.451390Z"
    },
    "papermill": {
     "duration": 0.075457,
     "end_time": "2024-07-12T08:48:01.455108",
     "exception": false,
     "start_time": "2024-07-12T08:48:01.379651",
     "status": "completed"
    },
    "tags": []
   },
   "outputs": [
    {
     "name": "stdout",
     "output_type": "stream",
     "text": [
      "<class 'pandas.core.frame.DataFrame'>\n",
      "RangeIndex: 2919 entries, 0 to 2918\n",
      "Data columns (total 13 columns):\n",
      " #   Column        Non-Null Count  Dtype  \n",
      "---  ------        --------------  -----  \n",
      " 0   Id            2919 non-null   int64  \n",
      " 1   MSSubClass    2919 non-null   int64  \n",
      " 2   MSZoning      2915 non-null   object \n",
      " 3   LotArea       2919 non-null   int64  \n",
      " 4   LotConfig     2919 non-null   object \n",
      " 5   BldgType      2919 non-null   object \n",
      " 6   OverallCond   2919 non-null   int64  \n",
      " 7   YearBuilt     2919 non-null   int64  \n",
      " 8   YearRemodAdd  2919 non-null   int64  \n",
      " 9   Exterior1st   2918 non-null   object \n",
      " 10  BsmtFinSF2    2918 non-null   float64\n",
      " 11  TotalBsmtSF   2918 non-null   float64\n",
      " 12  SalePrice     1460 non-null   float64\n",
      "dtypes: float64(3), int64(6), object(4)\n",
      "memory usage: 296.6+ KB\n"
     ]
    },
    {
     "data": {
      "text/html": [
       "<div>\n",
       "<style scoped>\n",
       "    .dataframe tbody tr th:only-of-type {\n",
       "        vertical-align: middle;\n",
       "    }\n",
       "\n",
       "    .dataframe tbody tr th {\n",
       "        vertical-align: top;\n",
       "    }\n",
       "\n",
       "    .dataframe thead th {\n",
       "        text-align: right;\n",
       "    }\n",
       "</style>\n",
       "<table border=\"1\" class=\"dataframe\">\n",
       "  <thead>\n",
       "    <tr style=\"text-align: right;\">\n",
       "      <th></th>\n",
       "      <th>Id</th>\n",
       "      <th>MSSubClass</th>\n",
       "      <th>LotArea</th>\n",
       "      <th>OverallCond</th>\n",
       "      <th>YearBuilt</th>\n",
       "      <th>YearRemodAdd</th>\n",
       "      <th>BsmtFinSF2</th>\n",
       "      <th>TotalBsmtSF</th>\n",
       "      <th>SalePrice</th>\n",
       "    </tr>\n",
       "  </thead>\n",
       "  <tbody>\n",
       "    <tr>\n",
       "      <th>count</th>\n",
       "      <td>2919.000000</td>\n",
       "      <td>2919.000000</td>\n",
       "      <td>2919.000000</td>\n",
       "      <td>2919.000000</td>\n",
       "      <td>2919.000000</td>\n",
       "      <td>2919.000000</td>\n",
       "      <td>2918.000000</td>\n",
       "      <td>2918.000000</td>\n",
       "      <td>1460.000000</td>\n",
       "    </tr>\n",
       "    <tr>\n",
       "      <th>mean</th>\n",
       "      <td>1459.000000</td>\n",
       "      <td>57.137718</td>\n",
       "      <td>10168.114080</td>\n",
       "      <td>5.564577</td>\n",
       "      <td>1971.312778</td>\n",
       "      <td>1984.264474</td>\n",
       "      <td>49.582248</td>\n",
       "      <td>1051.777587</td>\n",
       "      <td>180921.195890</td>\n",
       "    </tr>\n",
       "    <tr>\n",
       "      <th>std</th>\n",
       "      <td>842.787043</td>\n",
       "      <td>42.517628</td>\n",
       "      <td>7886.996359</td>\n",
       "      <td>1.113131</td>\n",
       "      <td>30.291442</td>\n",
       "      <td>20.894344</td>\n",
       "      <td>169.205611</td>\n",
       "      <td>440.766258</td>\n",
       "      <td>79442.502883</td>\n",
       "    </tr>\n",
       "    <tr>\n",
       "      <th>min</th>\n",
       "      <td>0.000000</td>\n",
       "      <td>20.000000</td>\n",
       "      <td>1300.000000</td>\n",
       "      <td>1.000000</td>\n",
       "      <td>1872.000000</td>\n",
       "      <td>1950.000000</td>\n",
       "      <td>0.000000</td>\n",
       "      <td>0.000000</td>\n",
       "      <td>34900.000000</td>\n",
       "    </tr>\n",
       "    <tr>\n",
       "      <th>25%</th>\n",
       "      <td>729.500000</td>\n",
       "      <td>20.000000</td>\n",
       "      <td>7478.000000</td>\n",
       "      <td>5.000000</td>\n",
       "      <td>1953.500000</td>\n",
       "      <td>1965.000000</td>\n",
       "      <td>0.000000</td>\n",
       "      <td>793.000000</td>\n",
       "      <td>129975.000000</td>\n",
       "    </tr>\n",
       "    <tr>\n",
       "      <th>50%</th>\n",
       "      <td>1459.000000</td>\n",
       "      <td>50.000000</td>\n",
       "      <td>9453.000000</td>\n",
       "      <td>5.000000</td>\n",
       "      <td>1973.000000</td>\n",
       "      <td>1993.000000</td>\n",
       "      <td>0.000000</td>\n",
       "      <td>989.500000</td>\n",
       "      <td>163000.000000</td>\n",
       "    </tr>\n",
       "    <tr>\n",
       "      <th>75%</th>\n",
       "      <td>2188.500000</td>\n",
       "      <td>70.000000</td>\n",
       "      <td>11570.000000</td>\n",
       "      <td>6.000000</td>\n",
       "      <td>2001.000000</td>\n",
       "      <td>2004.000000</td>\n",
       "      <td>0.000000</td>\n",
       "      <td>1302.000000</td>\n",
       "      <td>214000.000000</td>\n",
       "    </tr>\n",
       "    <tr>\n",
       "      <th>max</th>\n",
       "      <td>2918.000000</td>\n",
       "      <td>190.000000</td>\n",
       "      <td>215245.000000</td>\n",
       "      <td>9.000000</td>\n",
       "      <td>2010.000000</td>\n",
       "      <td>2010.000000</td>\n",
       "      <td>1526.000000</td>\n",
       "      <td>6110.000000</td>\n",
       "      <td>755000.000000</td>\n",
       "    </tr>\n",
       "  </tbody>\n",
       "</table>\n",
       "</div>"
      ],
      "text/plain": [
       "                Id   MSSubClass        LotArea  OverallCond    YearBuilt  \\\n",
       "count  2919.000000  2919.000000    2919.000000  2919.000000  2919.000000   \n",
       "mean   1459.000000    57.137718   10168.114080     5.564577  1971.312778   \n",
       "std     842.787043    42.517628    7886.996359     1.113131    30.291442   \n",
       "min       0.000000    20.000000    1300.000000     1.000000  1872.000000   \n",
       "25%     729.500000    20.000000    7478.000000     5.000000  1953.500000   \n",
       "50%    1459.000000    50.000000    9453.000000     5.000000  1973.000000   \n",
       "75%    2188.500000    70.000000   11570.000000     6.000000  2001.000000   \n",
       "max    2918.000000   190.000000  215245.000000     9.000000  2010.000000   \n",
       "\n",
       "       YearRemodAdd   BsmtFinSF2  TotalBsmtSF      SalePrice  \n",
       "count   2919.000000  2918.000000  2918.000000    1460.000000  \n",
       "mean    1984.264474    49.582248  1051.777587  180921.195890  \n",
       "std       20.894344   169.205611   440.766258   79442.502883  \n",
       "min     1950.000000     0.000000     0.000000   34900.000000  \n",
       "25%     1965.000000     0.000000   793.000000  129975.000000  \n",
       "50%     1993.000000     0.000000   989.500000  163000.000000  \n",
       "75%     2004.000000     0.000000  1302.000000  214000.000000  \n",
       "max     2010.000000  1526.000000  6110.000000  755000.000000  "
      ]
     },
     "execution_count": 2,
     "metadata": {},
     "output_type": "execute_result"
    }
   ],
   "source": [
    "# Display summary information\n",
    "data.info()\n",
    "\n",
    "# Display descriptive statistics\n",
    "data.describe()\n"
   ]
  },
  {
   "cell_type": "markdown",
   "id": "bcbfadbc",
   "metadata": {
    "papermill": {
     "duration": 0.010769,
     "end_time": "2024-07-12T08:48:01.475947",
     "exception": false,
     "start_time": "2024-07-12T08:48:01.465178",
     "status": "completed"
    },
    "tags": []
   },
   "source": [
    "# Data Preprocessing\n",
    "# Handle Missing Values\n",
    "\n",
    "1. Drop rows with missing target values.\n",
    "1. Fill missing values for categorical features with the most frequent value (mode).\n",
    "1. Fill missing values for numerical features with the mean."
   ]
  },
  {
   "cell_type": "code",
   "execution_count": 3,
   "id": "a7ca44fe",
   "metadata": {
    "execution": {
     "iopub.execute_input": "2024-07-12T08:48:01.499099Z",
     "iopub.status.busy": "2024-07-12T08:48:01.498669Z",
     "iopub.status.idle": "2024-07-12T08:48:01.509179Z",
     "shell.execute_reply": "2024-07-12T08:48:01.507975Z"
    },
    "papermill": {
     "duration": 0.025771,
     "end_time": "2024-07-12T08:48:01.512035",
     "exception": false,
     "start_time": "2024-07-12T08:48:01.486264",
     "status": "completed"
    },
    "tags": []
   },
   "outputs": [],
   "source": [
    "# Drop rows where 'SalePrice' is missing\n",
    "data = data.dropna(subset=['SalePrice'])"
   ]
  },
  {
   "cell_type": "code",
   "execution_count": 4,
   "id": "66521e6f",
   "metadata": {
    "execution": {
     "iopub.execute_input": "2024-07-12T08:48:01.534207Z",
     "iopub.status.busy": "2024-07-12T08:48:01.533816Z",
     "iopub.status.idle": "2024-07-12T08:48:01.544463Z",
     "shell.execute_reply": "2024-07-12T08:48:01.543294Z"
    },
    "papermill": {
     "duration": 0.025701,
     "end_time": "2024-07-12T08:48:01.548044",
     "exception": false,
     "start_time": "2024-07-12T08:48:01.522343",
     "status": "completed"
    },
    "tags": []
   },
   "outputs": [
    {
     "name": "stderr",
     "output_type": "stream",
     "text": [
      "/tmp/ipykernel_18/1237865907.py:4: FutureWarning: A value is trying to be set on a copy of a DataFrame or Series through chained assignment using an inplace method.\n",
      "The behavior will change in pandas 3.0. This inplace method will never work because the intermediate object on which we are setting values always behaves as a copy.\n",
      "\n",
      "For example, when doing 'df[col].method(value, inplace=True)', try using 'df.method({col: value}, inplace=True)' or df[col] = df[col].method(value) instead, to perform the operation inplace on the original object.\n",
      "\n",
      "\n",
      "  data[column].fillna(data[column].mode()[0], inplace=True)\n"
     ]
    }
   ],
   "source": [
    "# Fill missing values for categorical columns\n",
    "categorical_columns = data.select_dtypes(include=['object']).columns\n",
    "for column in categorical_columns:\n",
    "    data[column].fillna(data[column].mode()[0], inplace=True)"
   ]
  },
  {
   "cell_type": "code",
   "execution_count": 5,
   "id": "c1850b63",
   "metadata": {
    "execution": {
     "iopub.execute_input": "2024-07-12T08:48:01.570181Z",
     "iopub.status.busy": "2024-07-12T08:48:01.569809Z",
     "iopub.status.idle": "2024-07-12T08:48:01.581018Z",
     "shell.execute_reply": "2024-07-12T08:48:01.579712Z"
    },
    "papermill": {
     "duration": 0.025312,
     "end_time": "2024-07-12T08:48:01.583658",
     "exception": false,
     "start_time": "2024-07-12T08:48:01.558346",
     "status": "completed"
    },
    "tags": []
   },
   "outputs": [
    {
     "name": "stderr",
     "output_type": "stream",
     "text": [
      "/tmp/ipykernel_18/912250665.py:4: FutureWarning: A value is trying to be set on a copy of a DataFrame or Series through chained assignment using an inplace method.\n",
      "The behavior will change in pandas 3.0. This inplace method will never work because the intermediate object on which we are setting values always behaves as a copy.\n",
      "\n",
      "For example, when doing 'df[col].method(value, inplace=True)', try using 'df.method({col: value}, inplace=True)' or df[col] = df[col].method(value) instead, to perform the operation inplace on the original object.\n",
      "\n",
      "\n",
      "  data[column].fillna(data[column].mean(), inplace=True)\n"
     ]
    }
   ],
   "source": [
    "# Fill missing values for numerical columns\n",
    "numerical_columns = data.select_dtypes(include=['int64', 'float64']).columns\n",
    "for column in numerical_columns:\n",
    "    data[column].fillna(data[column].mean(), inplace=True)"
   ]
  },
  {
   "cell_type": "markdown",
   "id": "65c3bc0c",
   "metadata": {
    "papermill": {
     "duration": 0.010071,
     "end_time": "2024-07-12T08:48:01.604086",
     "exception": false,
     "start_time": "2024-07-12T08:48:01.594015",
     "status": "completed"
    },
    "tags": []
   },
   "source": [
    "# Encode Categorical Variables\n",
    "\n",
    "**Convert categorical variables to numerical format using one-hot encoding.**"
   ]
  },
  {
   "cell_type": "code",
   "execution_count": 6,
   "id": "ad970bb0",
   "metadata": {
    "execution": {
     "iopub.execute_input": "2024-07-12T08:48:01.626753Z",
     "iopub.status.busy": "2024-07-12T08:48:01.626363Z",
     "iopub.status.idle": "2024-07-12T08:48:01.640489Z",
     "shell.execute_reply": "2024-07-12T08:48:01.639506Z"
    },
    "papermill": {
     "duration": 0.028988,
     "end_time": "2024-07-12T08:48:01.643276",
     "exception": false,
     "start_time": "2024-07-12T08:48:01.614288",
     "status": "completed"
    },
    "tags": []
   },
   "outputs": [],
   "source": [
    "# Apply One-Hot Encoding\n",
    "data_encoded = pd.get_dummies(data, columns=categorical_columns, drop_first=True)\n"
   ]
  },
  {
   "cell_type": "markdown",
   "id": "570769df",
   "metadata": {
    "papermill": {
     "duration": 0.01044,
     "end_time": "2024-07-12T08:48:01.664090",
     "exception": false,
     "start_time": "2024-07-12T08:48:01.653650",
     "status": "completed"
    },
    "tags": []
   },
   "source": [
    "# Normalize/Scale Numerical Features\n",
    "**Standardize numerical features to improve model performance.**\n",
    "\n",
    "\n"
   ]
  },
  {
   "cell_type": "code",
   "execution_count": 7,
   "id": "ee5bc018",
   "metadata": {
    "execution": {
     "iopub.execute_input": "2024-07-12T08:48:01.687234Z",
     "iopub.status.busy": "2024-07-12T08:48:01.686863Z",
     "iopub.status.idle": "2024-07-12T08:48:03.050852Z",
     "shell.execute_reply": "2024-07-12T08:48:03.049566Z"
    },
    "papermill": {
     "duration": 1.379136,
     "end_time": "2024-07-12T08:48:03.053969",
     "exception": false,
     "start_time": "2024-07-12T08:48:01.674833",
     "status": "completed"
    },
    "tags": []
   },
   "outputs": [],
   "source": [
    "from sklearn.preprocessing import StandardScaler\n",
    "\n",
    "scaler = StandardScaler()\n",
    "numerical_columns = data_encoded.select_dtypes(include=['int64', 'float64']).columns\n",
    "data_encoded[numerical_columns] = scaler.fit_transform(data_encoded[numerical_columns])\n"
   ]
  },
  {
   "cell_type": "markdown",
   "id": "2b6b287c",
   "metadata": {
    "papermill": {
     "duration": 0.010522,
     "end_time": "2024-07-12T08:48:03.075132",
     "exception": false,
     "start_time": "2024-07-12T08:48:03.064610",
     "status": "completed"
    },
    "tags": []
   },
   "source": [
    "# Feature Engineering\n",
    "**Create new features that could be helpful for prediction.**"
   ]
  },
  {
   "cell_type": "code",
   "execution_count": 8,
   "id": "5c9fbab4",
   "metadata": {
    "execution": {
     "iopub.execute_input": "2024-07-12T08:48:03.098136Z",
     "iopub.status.busy": "2024-07-12T08:48:03.097665Z",
     "iopub.status.idle": "2024-07-12T08:48:03.104544Z",
     "shell.execute_reply": "2024-07-12T08:48:03.103260Z"
    },
    "papermill": {
     "duration": 0.02154,
     "end_time": "2024-07-12T08:48:03.107089",
     "exception": false,
     "start_time": "2024-07-12T08:48:03.085549",
     "status": "completed"
    },
    "tags": []
   },
   "outputs": [],
   "source": [
    "# Create a feature for house age\n",
    "data_encoded['HouseAge'] = data_encoded['YearBuilt'] - data_encoded['YearRemodAdd']\n"
   ]
  },
  {
   "cell_type": "markdown",
   "id": "0d7f899b",
   "metadata": {
    "papermill": {
     "duration": 0.010166,
     "end_time": "2024-07-12T08:48:03.127618",
     "exception": false,
     "start_time": "2024-07-12T08:48:03.117452",
     "status": "completed"
    },
    "tags": []
   },
   "source": [
    "# Model Building\n"
   ]
  },
  {
   "cell_type": "markdown",
   "id": "bacc8802",
   "metadata": {
    "papermill": {
     "duration": 0.009945,
     "end_time": "2024-07-12T08:48:03.148346",
     "exception": false,
     "start_time": "2024-07-12T08:48:03.138401",
     "status": "completed"
    },
    "tags": []
   },
   "source": [
    "1. Split the Data\n",
    "\n",
    "Divide the dataset into training and testing sets."
   ]
  },
  {
   "cell_type": "code",
   "execution_count": 9,
   "id": "537118d2",
   "metadata": {
    "execution": {
     "iopub.execute_input": "2024-07-12T08:48:03.171142Z",
     "iopub.status.busy": "2024-07-12T08:48:03.170734Z",
     "iopub.status.idle": "2024-07-12T08:48:03.293222Z",
     "shell.execute_reply": "2024-07-12T08:48:03.291939Z"
    },
    "papermill": {
     "duration": 0.137004,
     "end_time": "2024-07-12T08:48:03.296092",
     "exception": false,
     "start_time": "2024-07-12T08:48:03.159088",
     "status": "completed"
    },
    "tags": []
   },
   "outputs": [],
   "source": [
    "from sklearn.model_selection import train_test_split\n",
    "\n",
    "X = data_encoded.drop('SalePrice', axis=1)\n",
    "y = data_encoded['SalePrice']\n",
    "X_train, X_test, y_train, y_test = train_test_split(X, y, test_size=0.2, random_state=42)\n"
   ]
  },
  {
   "cell_type": "markdown",
   "id": "4c075aa3",
   "metadata": {
    "papermill": {
     "duration": 0.010094,
     "end_time": "2024-07-12T08:48:03.316634",
     "exception": false,
     "start_time": "2024-07-12T08:48:03.306540",
     "status": "completed"
    },
    "tags": []
   },
   "source": [
    "# **Train Models**\n",
    "\n",
    "*Train different regression models and compare their performance.*\n",
    "\n"
   ]
  },
  {
   "cell_type": "markdown",
   "id": "2cce3cfe",
   "metadata": {
    "papermill": {
     "duration": 0.00996,
     "end_time": "2024-07-12T08:48:03.337179",
     "exception": false,
     "start_time": "2024-07-12T08:48:03.327219",
     "status": "completed"
    },
    "tags": []
   },
   "source": [
    "**Linear Regression**"
   ]
  },
  {
   "cell_type": "code",
   "execution_count": 10,
   "id": "421866be",
   "metadata": {
    "execution": {
     "iopub.execute_input": "2024-07-12T08:48:03.359937Z",
     "iopub.status.busy": "2024-07-12T08:48:03.359526Z",
     "iopub.status.idle": "2024-07-12T08:48:03.504067Z",
     "shell.execute_reply": "2024-07-12T08:48:03.502479Z"
    },
    "papermill": {
     "duration": 0.16152,
     "end_time": "2024-07-12T08:48:03.509347",
     "exception": false,
     "start_time": "2024-07-12T08:48:03.347827",
     "status": "completed"
    },
    "tags": []
   },
   "outputs": [
    {
     "data": {
      "text/html": [
       "<style>#sk-container-id-1 {color: black;background-color: white;}#sk-container-id-1 pre{padding: 0;}#sk-container-id-1 div.sk-toggleable {background-color: white;}#sk-container-id-1 label.sk-toggleable__label {cursor: pointer;display: block;width: 100%;margin-bottom: 0;padding: 0.3em;box-sizing: border-box;text-align: center;}#sk-container-id-1 label.sk-toggleable__label-arrow:before {content: \"▸\";float: left;margin-right: 0.25em;color: #696969;}#sk-container-id-1 label.sk-toggleable__label-arrow:hover:before {color: black;}#sk-container-id-1 div.sk-estimator:hover label.sk-toggleable__label-arrow:before {color: black;}#sk-container-id-1 div.sk-toggleable__content {max-height: 0;max-width: 0;overflow: hidden;text-align: left;background-color: #f0f8ff;}#sk-container-id-1 div.sk-toggleable__content pre {margin: 0.2em;color: black;border-radius: 0.25em;background-color: #f0f8ff;}#sk-container-id-1 input.sk-toggleable__control:checked~div.sk-toggleable__content {max-height: 200px;max-width: 100%;overflow: auto;}#sk-container-id-1 input.sk-toggleable__control:checked~label.sk-toggleable__label-arrow:before {content: \"▾\";}#sk-container-id-1 div.sk-estimator input.sk-toggleable__control:checked~label.sk-toggleable__label {background-color: #d4ebff;}#sk-container-id-1 div.sk-label input.sk-toggleable__control:checked~label.sk-toggleable__label {background-color: #d4ebff;}#sk-container-id-1 input.sk-hidden--visually {border: 0;clip: rect(1px 1px 1px 1px);clip: rect(1px, 1px, 1px, 1px);height: 1px;margin: -1px;overflow: hidden;padding: 0;position: absolute;width: 1px;}#sk-container-id-1 div.sk-estimator {font-family: monospace;background-color: #f0f8ff;border: 1px dotted black;border-radius: 0.25em;box-sizing: border-box;margin-bottom: 0.5em;}#sk-container-id-1 div.sk-estimator:hover {background-color: #d4ebff;}#sk-container-id-1 div.sk-parallel-item::after {content: \"\";width: 100%;border-bottom: 1px solid gray;flex-grow: 1;}#sk-container-id-1 div.sk-label:hover label.sk-toggleable__label {background-color: #d4ebff;}#sk-container-id-1 div.sk-serial::before {content: \"\";position: absolute;border-left: 1px solid gray;box-sizing: border-box;top: 0;bottom: 0;left: 50%;z-index: 0;}#sk-container-id-1 div.sk-serial {display: flex;flex-direction: column;align-items: center;background-color: white;padding-right: 0.2em;padding-left: 0.2em;position: relative;}#sk-container-id-1 div.sk-item {position: relative;z-index: 1;}#sk-container-id-1 div.sk-parallel {display: flex;align-items: stretch;justify-content: center;background-color: white;position: relative;}#sk-container-id-1 div.sk-item::before, #sk-container-id-1 div.sk-parallel-item::before {content: \"\";position: absolute;border-left: 1px solid gray;box-sizing: border-box;top: 0;bottom: 0;left: 50%;z-index: -1;}#sk-container-id-1 div.sk-parallel-item {display: flex;flex-direction: column;z-index: 1;position: relative;background-color: white;}#sk-container-id-1 div.sk-parallel-item:first-child::after {align-self: flex-end;width: 50%;}#sk-container-id-1 div.sk-parallel-item:last-child::after {align-self: flex-start;width: 50%;}#sk-container-id-1 div.sk-parallel-item:only-child::after {width: 0;}#sk-container-id-1 div.sk-dashed-wrapped {border: 1px dashed gray;margin: 0 0.4em 0.5em 0.4em;box-sizing: border-box;padding-bottom: 0.4em;background-color: white;}#sk-container-id-1 div.sk-label label {font-family: monospace;font-weight: bold;display: inline-block;line-height: 1.2em;}#sk-container-id-1 div.sk-label-container {text-align: center;}#sk-container-id-1 div.sk-container {/* jupyter's `normalize.less` sets `[hidden] { display: none; }` but bootstrap.min.css set `[hidden] { display: none !important; }` so we also need the `!important` here to be able to override the default hidden behavior on the sphinx rendered scikit-learn.org. See: https://github.com/scikit-learn/scikit-learn/issues/21755 */display: inline-block !important;position: relative;}#sk-container-id-1 div.sk-text-repr-fallback {display: none;}</style><div id=\"sk-container-id-1\" class=\"sk-top-container\"><div class=\"sk-text-repr-fallback\"><pre>LinearRegression()</pre><b>In a Jupyter environment, please rerun this cell to show the HTML representation or trust the notebook. <br />On GitHub, the HTML representation is unable to render, please try loading this page with nbviewer.org.</b></div><div class=\"sk-container\" hidden><div class=\"sk-item\"><div class=\"sk-estimator sk-toggleable\"><input class=\"sk-toggleable__control sk-hidden--visually\" id=\"sk-estimator-id-1\" type=\"checkbox\" checked><label for=\"sk-estimator-id-1\" class=\"sk-toggleable__label sk-toggleable__label-arrow\">LinearRegression</label><div class=\"sk-toggleable__content\"><pre>LinearRegression()</pre></div></div></div></div></div>"
      ],
      "text/plain": [
       "LinearRegression()"
      ]
     },
     "execution_count": 10,
     "metadata": {},
     "output_type": "execute_result"
    }
   ],
   "source": [
    "from sklearn.linear_model import LinearRegression\n",
    "\n",
    "model_lr = LinearRegression()\n",
    "model_lr.fit(X_train, y_train)\n"
   ]
  },
  {
   "cell_type": "markdown",
   "id": "d79efcb4",
   "metadata": {
    "papermill": {
     "duration": 0.02168,
     "end_time": "2024-07-12T08:48:03.553551",
     "exception": false,
     "start_time": "2024-07-12T08:48:03.531871",
     "status": "completed"
    },
    "tags": []
   },
   "source": [
    "**Random Forest**\n",
    "\n"
   ]
  },
  {
   "cell_type": "code",
   "execution_count": 11,
   "id": "7cb1cf09",
   "metadata": {
    "execution": {
     "iopub.execute_input": "2024-07-12T08:48:03.601131Z",
     "iopub.status.busy": "2024-07-12T08:48:03.599381Z",
     "iopub.status.idle": "2024-07-12T08:48:04.799198Z",
     "shell.execute_reply": "2024-07-12T08:48:04.797770Z"
    },
    "papermill": {
     "duration": 1.226483,
     "end_time": "2024-07-12T08:48:04.802094",
     "exception": false,
     "start_time": "2024-07-12T08:48:03.575611",
     "status": "completed"
    },
    "tags": []
   },
   "outputs": [
    {
     "data": {
      "text/html": [
       "<style>#sk-container-id-2 {color: black;background-color: white;}#sk-container-id-2 pre{padding: 0;}#sk-container-id-2 div.sk-toggleable {background-color: white;}#sk-container-id-2 label.sk-toggleable__label {cursor: pointer;display: block;width: 100%;margin-bottom: 0;padding: 0.3em;box-sizing: border-box;text-align: center;}#sk-container-id-2 label.sk-toggleable__label-arrow:before {content: \"▸\";float: left;margin-right: 0.25em;color: #696969;}#sk-container-id-2 label.sk-toggleable__label-arrow:hover:before {color: black;}#sk-container-id-2 div.sk-estimator:hover label.sk-toggleable__label-arrow:before {color: black;}#sk-container-id-2 div.sk-toggleable__content {max-height: 0;max-width: 0;overflow: hidden;text-align: left;background-color: #f0f8ff;}#sk-container-id-2 div.sk-toggleable__content pre {margin: 0.2em;color: black;border-radius: 0.25em;background-color: #f0f8ff;}#sk-container-id-2 input.sk-toggleable__control:checked~div.sk-toggleable__content {max-height: 200px;max-width: 100%;overflow: auto;}#sk-container-id-2 input.sk-toggleable__control:checked~label.sk-toggleable__label-arrow:before {content: \"▾\";}#sk-container-id-2 div.sk-estimator input.sk-toggleable__control:checked~label.sk-toggleable__label {background-color: #d4ebff;}#sk-container-id-2 div.sk-label input.sk-toggleable__control:checked~label.sk-toggleable__label {background-color: #d4ebff;}#sk-container-id-2 input.sk-hidden--visually {border: 0;clip: rect(1px 1px 1px 1px);clip: rect(1px, 1px, 1px, 1px);height: 1px;margin: -1px;overflow: hidden;padding: 0;position: absolute;width: 1px;}#sk-container-id-2 div.sk-estimator {font-family: monospace;background-color: #f0f8ff;border: 1px dotted black;border-radius: 0.25em;box-sizing: border-box;margin-bottom: 0.5em;}#sk-container-id-2 div.sk-estimator:hover {background-color: #d4ebff;}#sk-container-id-2 div.sk-parallel-item::after {content: \"\";width: 100%;border-bottom: 1px solid gray;flex-grow: 1;}#sk-container-id-2 div.sk-label:hover label.sk-toggleable__label {background-color: #d4ebff;}#sk-container-id-2 div.sk-serial::before {content: \"\";position: absolute;border-left: 1px solid gray;box-sizing: border-box;top: 0;bottom: 0;left: 50%;z-index: 0;}#sk-container-id-2 div.sk-serial {display: flex;flex-direction: column;align-items: center;background-color: white;padding-right: 0.2em;padding-left: 0.2em;position: relative;}#sk-container-id-2 div.sk-item {position: relative;z-index: 1;}#sk-container-id-2 div.sk-parallel {display: flex;align-items: stretch;justify-content: center;background-color: white;position: relative;}#sk-container-id-2 div.sk-item::before, #sk-container-id-2 div.sk-parallel-item::before {content: \"\";position: absolute;border-left: 1px solid gray;box-sizing: border-box;top: 0;bottom: 0;left: 50%;z-index: -1;}#sk-container-id-2 div.sk-parallel-item {display: flex;flex-direction: column;z-index: 1;position: relative;background-color: white;}#sk-container-id-2 div.sk-parallel-item:first-child::after {align-self: flex-end;width: 50%;}#sk-container-id-2 div.sk-parallel-item:last-child::after {align-self: flex-start;width: 50%;}#sk-container-id-2 div.sk-parallel-item:only-child::after {width: 0;}#sk-container-id-2 div.sk-dashed-wrapped {border: 1px dashed gray;margin: 0 0.4em 0.5em 0.4em;box-sizing: border-box;padding-bottom: 0.4em;background-color: white;}#sk-container-id-2 div.sk-label label {font-family: monospace;font-weight: bold;display: inline-block;line-height: 1.2em;}#sk-container-id-2 div.sk-label-container {text-align: center;}#sk-container-id-2 div.sk-container {/* jupyter's `normalize.less` sets `[hidden] { display: none; }` but bootstrap.min.css set `[hidden] { display: none !important; }` so we also need the `!important` here to be able to override the default hidden behavior on the sphinx rendered scikit-learn.org. See: https://github.com/scikit-learn/scikit-learn/issues/21755 */display: inline-block !important;position: relative;}#sk-container-id-2 div.sk-text-repr-fallback {display: none;}</style><div id=\"sk-container-id-2\" class=\"sk-top-container\"><div class=\"sk-text-repr-fallback\"><pre>RandomForestRegressor()</pre><b>In a Jupyter environment, please rerun this cell to show the HTML representation or trust the notebook. <br />On GitHub, the HTML representation is unable to render, please try loading this page with nbviewer.org.</b></div><div class=\"sk-container\" hidden><div class=\"sk-item\"><div class=\"sk-estimator sk-toggleable\"><input class=\"sk-toggleable__control sk-hidden--visually\" id=\"sk-estimator-id-2\" type=\"checkbox\" checked><label for=\"sk-estimator-id-2\" class=\"sk-toggleable__label sk-toggleable__label-arrow\">RandomForestRegressor</label><div class=\"sk-toggleable__content\"><pre>RandomForestRegressor()</pre></div></div></div></div></div>"
      ],
      "text/plain": [
       "RandomForestRegressor()"
      ]
     },
     "execution_count": 11,
     "metadata": {},
     "output_type": "execute_result"
    }
   ],
   "source": [
    "from sklearn.ensemble import RandomForestRegressor\n",
    "\n",
    "model_rf = RandomForestRegressor()\n",
    "model_rf.fit(X_train, y_train)\n"
   ]
  },
  {
   "cell_type": "markdown",
   "id": "80d4f806",
   "metadata": {
    "papermill": {
     "duration": 0.010955,
     "end_time": "2024-07-12T08:48:04.824358",
     "exception": false,
     "start_time": "2024-07-12T08:48:04.813403",
     "status": "completed"
    },
    "tags": []
   },
   "source": [
    "**Gradient Boosting**\n",
    "\n"
   ]
  },
  {
   "cell_type": "code",
   "execution_count": 12,
   "id": "a273f583",
   "metadata": {
    "execution": {
     "iopub.execute_input": "2024-07-12T08:48:04.849442Z",
     "iopub.status.busy": "2024-07-12T08:48:04.848509Z",
     "iopub.status.idle": "2024-07-12T08:48:05.170135Z",
     "shell.execute_reply": "2024-07-12T08:48:05.168926Z"
    },
    "papermill": {
     "duration": 0.336902,
     "end_time": "2024-07-12T08:48:05.172757",
     "exception": false,
     "start_time": "2024-07-12T08:48:04.835855",
     "status": "completed"
    },
    "tags": []
   },
   "outputs": [
    {
     "data": {
      "text/html": [
       "<style>#sk-container-id-3 {color: black;background-color: white;}#sk-container-id-3 pre{padding: 0;}#sk-container-id-3 div.sk-toggleable {background-color: white;}#sk-container-id-3 label.sk-toggleable__label {cursor: pointer;display: block;width: 100%;margin-bottom: 0;padding: 0.3em;box-sizing: border-box;text-align: center;}#sk-container-id-3 label.sk-toggleable__label-arrow:before {content: \"▸\";float: left;margin-right: 0.25em;color: #696969;}#sk-container-id-3 label.sk-toggleable__label-arrow:hover:before {color: black;}#sk-container-id-3 div.sk-estimator:hover label.sk-toggleable__label-arrow:before {color: black;}#sk-container-id-3 div.sk-toggleable__content {max-height: 0;max-width: 0;overflow: hidden;text-align: left;background-color: #f0f8ff;}#sk-container-id-3 div.sk-toggleable__content pre {margin: 0.2em;color: black;border-radius: 0.25em;background-color: #f0f8ff;}#sk-container-id-3 input.sk-toggleable__control:checked~div.sk-toggleable__content {max-height: 200px;max-width: 100%;overflow: auto;}#sk-container-id-3 input.sk-toggleable__control:checked~label.sk-toggleable__label-arrow:before {content: \"▾\";}#sk-container-id-3 div.sk-estimator input.sk-toggleable__control:checked~label.sk-toggleable__label {background-color: #d4ebff;}#sk-container-id-3 div.sk-label input.sk-toggleable__control:checked~label.sk-toggleable__label {background-color: #d4ebff;}#sk-container-id-3 input.sk-hidden--visually {border: 0;clip: rect(1px 1px 1px 1px);clip: rect(1px, 1px, 1px, 1px);height: 1px;margin: -1px;overflow: hidden;padding: 0;position: absolute;width: 1px;}#sk-container-id-3 div.sk-estimator {font-family: monospace;background-color: #f0f8ff;border: 1px dotted black;border-radius: 0.25em;box-sizing: border-box;margin-bottom: 0.5em;}#sk-container-id-3 div.sk-estimator:hover {background-color: #d4ebff;}#sk-container-id-3 div.sk-parallel-item::after {content: \"\";width: 100%;border-bottom: 1px solid gray;flex-grow: 1;}#sk-container-id-3 div.sk-label:hover label.sk-toggleable__label {background-color: #d4ebff;}#sk-container-id-3 div.sk-serial::before {content: \"\";position: absolute;border-left: 1px solid gray;box-sizing: border-box;top: 0;bottom: 0;left: 50%;z-index: 0;}#sk-container-id-3 div.sk-serial {display: flex;flex-direction: column;align-items: center;background-color: white;padding-right: 0.2em;padding-left: 0.2em;position: relative;}#sk-container-id-3 div.sk-item {position: relative;z-index: 1;}#sk-container-id-3 div.sk-parallel {display: flex;align-items: stretch;justify-content: center;background-color: white;position: relative;}#sk-container-id-3 div.sk-item::before, #sk-container-id-3 div.sk-parallel-item::before {content: \"\";position: absolute;border-left: 1px solid gray;box-sizing: border-box;top: 0;bottom: 0;left: 50%;z-index: -1;}#sk-container-id-3 div.sk-parallel-item {display: flex;flex-direction: column;z-index: 1;position: relative;background-color: white;}#sk-container-id-3 div.sk-parallel-item:first-child::after {align-self: flex-end;width: 50%;}#sk-container-id-3 div.sk-parallel-item:last-child::after {align-self: flex-start;width: 50%;}#sk-container-id-3 div.sk-parallel-item:only-child::after {width: 0;}#sk-container-id-3 div.sk-dashed-wrapped {border: 1px dashed gray;margin: 0 0.4em 0.5em 0.4em;box-sizing: border-box;padding-bottom: 0.4em;background-color: white;}#sk-container-id-3 div.sk-label label {font-family: monospace;font-weight: bold;display: inline-block;line-height: 1.2em;}#sk-container-id-3 div.sk-label-container {text-align: center;}#sk-container-id-3 div.sk-container {/* jupyter's `normalize.less` sets `[hidden] { display: none; }` but bootstrap.min.css set `[hidden] { display: none !important; }` so we also need the `!important` here to be able to override the default hidden behavior on the sphinx rendered scikit-learn.org. See: https://github.com/scikit-learn/scikit-learn/issues/21755 */display: inline-block !important;position: relative;}#sk-container-id-3 div.sk-text-repr-fallback {display: none;}</style><div id=\"sk-container-id-3\" class=\"sk-top-container\"><div class=\"sk-text-repr-fallback\"><pre>GradientBoostingRegressor()</pre><b>In a Jupyter environment, please rerun this cell to show the HTML representation or trust the notebook. <br />On GitHub, the HTML representation is unable to render, please try loading this page with nbviewer.org.</b></div><div class=\"sk-container\" hidden><div class=\"sk-item\"><div class=\"sk-estimator sk-toggleable\"><input class=\"sk-toggleable__control sk-hidden--visually\" id=\"sk-estimator-id-3\" type=\"checkbox\" checked><label for=\"sk-estimator-id-3\" class=\"sk-toggleable__label sk-toggleable__label-arrow\">GradientBoostingRegressor</label><div class=\"sk-toggleable__content\"><pre>GradientBoostingRegressor()</pre></div></div></div></div></div>"
      ],
      "text/plain": [
       "GradientBoostingRegressor()"
      ]
     },
     "execution_count": 12,
     "metadata": {},
     "output_type": "execute_result"
    }
   ],
   "source": [
    "from sklearn.ensemble import GradientBoostingRegressor\n",
    "\n",
    "model_gb = GradientBoostingRegressor()\n",
    "model_gb.fit(X_train, y_train)\n"
   ]
  },
  {
   "cell_type": "markdown",
   "id": "61b5309b",
   "metadata": {
    "papermill": {
     "duration": 0.01057,
     "end_time": "2024-07-12T08:48:05.194442",
     "exception": false,
     "start_time": "2024-07-12T08:48:05.183872",
     "status": "completed"
    },
    "tags": []
   },
   "source": [
    "# Model Evaluation"
   ]
  },
  {
   "cell_type": "markdown",
   "id": "895a79db",
   "metadata": {
    "papermill": {
     "duration": 0.01372,
     "end_time": "2024-07-12T08:48:05.219326",
     "exception": false,
     "start_time": "2024-07-12T08:48:05.205606",
     "status": "completed"
    },
    "tags": []
   },
   "source": [
    "# Evaluate the Performance \n",
    ">  Assess each model using metrics such as Mean Absolute Error (MAE), Mean Squared Error (MSE), and R-squared."
   ]
  },
  {
   "cell_type": "code",
   "execution_count": 13,
   "id": "cb753dbf",
   "metadata": {
    "execution": {
     "iopub.execute_input": "2024-07-12T08:48:05.250573Z",
     "iopub.status.busy": "2024-07-12T08:48:05.250025Z",
     "iopub.status.idle": "2024-07-12T08:48:05.324111Z",
     "shell.execute_reply": "2024-07-12T08:48:05.322608Z"
    },
    "papermill": {
     "duration": 0.094708,
     "end_time": "2024-07-12T08:48:05.328531",
     "exception": false,
     "start_time": "2024-07-12T08:48:05.233823",
     "status": "completed"
    },
    "tags": []
   },
   "outputs": [
    {
     "name": "stdout",
     "output_type": "stream",
     "text": [
      "Linear Regression - MAE: 0.42975963469147965\n",
      "Linear Regression - MSE: 0.4625959497149676\n",
      "Linear Regression - R-squared: 0.6196387511449679\n",
      "Random Forest - MAE: 0.30384616458922065\n",
      "Random Forest - MSE: 0.225733416811107\n",
      "Random Forest - R-squared: 0.8143947339368413\n",
      "Gradient Boosting - MAE: 0.2980960528273578\n",
      "Gradient Boosting - MSE: 0.20911025982511966\n",
      "Gradient Boosting - R-squared: 0.8280628275615245\n"
     ]
    }
   ],
   "source": [
    "from sklearn.metrics import mean_absolute_error, mean_squared_error, r2_score\n",
    "\n",
    "# Evaluate Linear Regression\n",
    "y_pred_lr = model_lr.predict(X_test)\n",
    "print(\"Linear Regression - MAE:\", mean_absolute_error(y_test, y_pred_lr))\n",
    "print(\"Linear Regression - MSE:\", mean_squared_error(y_test, y_pred_lr))\n",
    "print(\"Linear Regression - R-squared:\", r2_score(y_test, y_pred_lr))\n",
    "\n",
    "# Evaluate Random Forest\n",
    "y_pred_rf = model_rf.predict(X_test)\n",
    "print(\"Random Forest - MAE:\", mean_absolute_error(y_test, y_pred_rf))\n",
    "print(\"Random Forest - MSE:\", mean_squared_error(y_test, y_pred_rf))\n",
    "print(\"Random Forest - R-squared:\", r2_score(y_test, y_pred_rf))\n",
    "\n",
    "# Evaluate Gradient Boosting\n",
    "y_pred_gb = model_gb.predict(X_test)\n",
    "print(\"Gradient Boosting - MAE:\", mean_absolute_error(y_test, y_pred_gb))\n",
    "print(\"Gradient Boosting - MSE:\", mean_squared_error(y_test, y_pred_gb))\n",
    "print(\"Gradient Boosting - R-squared:\", r2_score(y_test, y_pred_gb))\n"
   ]
  },
  {
   "cell_type": "markdown",
   "id": "d9fd54ab",
   "metadata": {
    "papermill": {
     "duration": 0.033851,
     "end_time": "2024-07-12T08:48:05.384980",
     "exception": false,
     "start_time": "2024-07-12T08:48:05.351129",
     "status": "completed"
    },
    "tags": []
   },
   "source": [
    "# Model Optimization"
   ]
  },
  {
   "cell_type": "markdown",
   "id": "5b87be7f",
   "metadata": {
    "papermill": {
     "duration": 0.015385,
     "end_time": "2024-07-12T08:48:05.414656",
     "exception": false,
     "start_time": "2024-07-12T08:48:05.399271",
     "status": "completed"
    },
    "tags": []
   },
   "source": [
    "# Hyperparameter Tuning \n",
    "> Improve model performance by tuning hyperparameters using techniques like Grid Search or Random Search."
   ]
  },
  {
   "cell_type": "code",
   "execution_count": 14,
   "id": "a0d3a748",
   "metadata": {
    "execution": {
     "iopub.execute_input": "2024-07-12T08:48:05.443114Z",
     "iopub.status.busy": "2024-07-12T08:48:05.442626Z",
     "iopub.status.idle": "2024-07-12T08:49:48.799911Z",
     "shell.execute_reply": "2024-07-12T08:49:48.798589Z"
    },
    "papermill": {
     "duration": 103.384892,
     "end_time": "2024-07-12T08:49:48.813763",
     "exception": false,
     "start_time": "2024-07-12T08:48:05.428871",
     "status": "completed"
    },
    "tags": []
   },
   "outputs": [
    {
     "name": "stdout",
     "output_type": "stream",
     "text": [
      "Best parameters for Random Forest: {'max_depth': 20, 'min_samples_split': 5, 'n_estimators': 100}\n"
     ]
    }
   ],
   "source": [
    "from sklearn.model_selection import GridSearchCV\n",
    "\n",
    "# Example for Random Forest\n",
    "param_grid = {\n",
    "    'n_estimators': [50, 100, 200],\n",
    "    'max_depth': [None, 10, 20],\n",
    "    'min_samples_split': [2, 5, 10]\n",
    "}\n",
    "\n",
    "grid_search = GridSearchCV(estimator=model_rf, param_grid=param_grid, cv=5)\n",
    "grid_search.fit(X_train, y_train)\n",
    "\n",
    "print(\"Best parameters for Random Forest:\", grid_search.best_params_)\n"
   ]
  },
  {
   "cell_type": "code",
   "execution_count": null,
   "id": "e463cb1d",
   "metadata": {
    "papermill": {
     "duration": 0.012491,
     "end_time": "2024-07-12T08:49:48.837341",
     "exception": false,
     "start_time": "2024-07-12T08:49:48.824850",
     "status": "completed"
    },
    "tags": []
   },
   "outputs": [],
   "source": []
  }
 ],
 "metadata": {
  "kaggle": {
   "accelerator": "none",
   "dataSources": [
    {
     "datasetId": 5376758,
     "sourceId": 8936741,
     "sourceType": "datasetVersion"
    }
   ],
   "dockerImageVersionId": 30746,
   "isGpuEnabled": false,
   "isInternetEnabled": false,
   "language": "python",
   "sourceType": "notebook"
  },
  "kernelspec": {
   "display_name": "Python 3 (ipykernel)",
   "language": "python",
   "name": "python3"
  },
  "language_info": {
   "codemirror_mode": {
    "name": "ipython",
    "version": 3
   },
   "file_extension": ".py",
   "mimetype": "text/x-python",
   "name": "python",
   "nbconvert_exporter": "python",
   "pygments_lexer": "ipython3",
   "version": "3.12.4"
  },
  "papermill": {
   "default_parameters": {},
   "duration": 112.416433,
   "end_time": "2024-07-12T08:49:49.471843",
   "environment_variables": {},
   "exception": null,
   "input_path": "__notebook__.ipynb",
   "output_path": "__notebook__.ipynb",
   "parameters": {},
   "start_time": "2024-07-12T08:47:57.055410",
   "version": "2.5.0"
  }
 },
 "nbformat": 4,
 "nbformat_minor": 5
}
